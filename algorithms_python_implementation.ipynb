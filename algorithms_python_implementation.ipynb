{
 "cells": [
  {
   "cell_type": "markdown",
   "metadata": {},
   "source": [
    "### 1. INTRODUCTION   Karatsuba Multiplication (13 min)   Karatsuba Multiplication"
   ]
  },
  {
   "cell_type": "code",
   "execution_count": 66,
   "metadata": {},
   "outputs": [],
   "source": [
    "import math\n",
    "def karatsuba_mult(int_1,int_2):\n",
    "    #Get length of the integers\n",
    "    len_1 = len(str(int_1))\n",
    "    len_2 = len(str(int_2))\n",
    "    \n",
    "    if len_1 == 1 or len_2 == 1:\n",
    "        return int_1*int_2\n",
    "    else:\n",
    "        n = max(len_1,len_2)\n",
    "        #print(n)\n",
    "        a = int_1 // 10 ** (n//2)\n",
    "        b = int_1 % 10 ** (n//2)\n",
    "        c = int_2 //10 ** (n//2)\n",
    "        d = int_2 % 10 ** (n//2)\n",
    "        \n",
    "        ac = karatsuba_mult(a,c)\n",
    "        bd = karatsuba_mult(b,d)\n",
    "        ab_cd = karatsuba_mult(a+b,c+d)\n",
    "        ad_bc = ab_cd -ac - bd\n",
    "        prod = 10 ** n * ac + 10 ** (n//2) * (ad_bc) +bd\n",
    "        return prod"
   ]
  },
  {
   "cell_type": "code",
   "execution_count": 68,
   "metadata": {},
   "outputs": [
    {
     "data": {
      "text/plain": [
       "1898909372598329753927900001"
      ]
     },
     "execution_count": 68,
     "metadata": {},
     "output_type": "execute_result"
    }
   ],
   "source": [
    "karatsuba_mult(99999,999999999999999999999)"
   ]
  },
  {
   "cell_type": "markdown",
   "metadata": {},
   "source": [
    "### 2. Merge Sort"
   ]
  },
  {
   "cell_type": "code",
   "execution_count": 206,
   "metadata": {},
   "outputs": [],
   "source": [
    "import random\n",
    "ms_list = random.sample(range(1, 1000), 99)"
   ]
  },
  {
   "cell_type": "code",
   "execution_count": 207,
   "metadata": {},
   "outputs": [],
   "source": [
    "def merge_sort(input_list):\n",
    "    n = len(input_list)\n",
    "    #print(\"input\"+str(input_list))\n",
    "\n",
    "    sorted_list = []\n",
    "    if n>2:\n",
    "        list_1 = input_list[0:n//2]\n",
    "        list_2 = input_list[n//2:]\n",
    "        sorted_1 = merge_sort(list_1)\n",
    "        sorted_2 = merge_sort(list_2)\n",
    "        \n",
    "        #Merge step\n",
    "        i=0\n",
    "        j=0\n",
    "        for k in range(0,n):\n",
    "            if (i <= (n//2) -1 ) & ( j <= n - (n//2) -1):\n",
    "                if sorted_1[i] < sorted_2[j]:\n",
    "                    sorted_list.append(sorted_1[i])\n",
    "                    i += 1\n",
    "                elif sorted_1[i] > sorted_2[j]:\n",
    "                    sorted_list.append(sorted_2[j])\n",
    "                    j += 1\n",
    "            elif i>(n//2) -1:\n",
    "                sorted_list.extend(sorted_2[j:])\n",
    "                break\n",
    "            elif j>n - (n//2) -1:\n",
    "                sorted_list.extend(sorted_1[i:])   \n",
    "                break\n",
    "    elif n == 2:\n",
    "        if input_list[0]<=input_list[1]:\n",
    "            sorted_list.extend([input_list[0],input_list[1]])\n",
    "        else:\n",
    "            sorted_list.extend([input_list[1],input_list[0]])\n",
    "    elif n == 1:\n",
    "        sorted_list.append(input_list[0])            \n",
    "    #print(\"sorted=\"+str(sorted_list))\n",
    "    return sorted_list"
   ]
  },
  {
   "cell_type": "code",
   "execution_count": 209,
   "metadata": {},
   "outputs": [
    {
     "name": "stdout",
     "output_type": "stream",
     "text": [
      "[14, 32, 42, 58, 69, 72, 79, 82, 86, 89, 100, 105, 120, 121, 124, 135, 160, 167, 175, 186, 194, 196, 205, 208, 222, 234, 263, 290, 305, 323, 329, 333, 336, 340, 347, 353, 362, 367, 372, 374, 378, 379, 380, 381, 384, 393, 403, 412, 457, 468, 496, 498, 499, 501, 510, 532, 541, 545, 557, 566, 583, 593, 594, 596, 602, 632, 638, 666, 670, 672, 684, 702, 718, 721, 735, 736, 739, 754, 780, 826, 829, 843, 864, 871, 880, 896, 899, 905, 906, 907, 912, 913, 918, 924, 935, 947, 977, 992, 997]\n"
     ]
    }
   ],
   "source": [
    "result = merge_sort(ms_list)\n",
    "print(result)"
   ]
  },
  {
   "cell_type": "markdown",
   "metadata": {},
   "source": [
    "### 3. O(n log n) Algorithm for Counting Inversions"
   ]
  },
  {
   "cell_type": "markdown",
   "metadata": {},
   "source": [
    "#### Problem: \n",
    "Input:array A containing n numbers in some arbitrary order\n",
    "Output: # inversions = number of pairs (i,j) of array indices with i<j and A[i]>A[j]\n"
   ]
  },
  {
   "cell_type": "code",
   "execution_count": 210,
   "metadata": {},
   "outputs": [],
   "source": [
    "import random\n",
    "split_list = random.sample(range(1, 1000), 99)"
   ]
  },
  {
   "cell_type": "code",
   "execution_count": 232,
   "metadata": {},
   "outputs": [],
   "source": [
    "def merge_sort_count_split(input_list):\n",
    "    n = len(input_list)\n",
    "    #print(\"input\"+str(input_list))\n",
    "\n",
    "    sorted_list = []\n",
    "    split_count = 0\n",
    "    split_count_1 = 0\n",
    "    split_count_2 = 0\n",
    "    if n>2:\n",
    "        list_1 = input_list[0:n//2]\n",
    "        list_2 = input_list[n//2:]\n",
    "        sorted_1,split_count_1 = merge_sort_count_split(list_1)\n",
    "        sorted_2,split_count_2 = merge_sort_count_split(list_2)\n",
    "        \n",
    "        #Merge step\n",
    "        i=0\n",
    "        j=0\n",
    "        for k in range(0,n):\n",
    "            if (i <= (n//2) -1 ) & ( j <= n - (n//2) -1):\n",
    "                if sorted_1[i] < sorted_2[j]:\n",
    "                    sorted_list.append(sorted_1[i])\n",
    "                    i += 1\n",
    "                elif sorted_1[i] > sorted_2[j]:\n",
    "                    sorted_list.append(sorted_2[j])\n",
    "                    j += 1\n",
    "                    #Additional code here, whenever move from list_2, add number of items left in list_1 to split_count\n",
    "                    split_count += n//2 - i\n",
    "            elif i>(n//2) -1:\n",
    "                sorted_list.extend(sorted_2[j:])\n",
    "                break\n",
    "            elif j>n - (n//2) -1:\n",
    "                sorted_list.extend(sorted_1[i:])   \n",
    "                break\n",
    "    elif n == 2:\n",
    "        if input_list[0]<=input_list[1]:\n",
    "            sorted_list.extend([input_list[0],input_list[1]])\n",
    "        else:\n",
    "            sorted_list.extend([input_list[1],input_list[0]])\n",
    "            #Additional code here, whenever two element first one bigger, add 1 to split count\n",
    "            split_count += 1\n",
    "    elif n == 1:\n",
    "        sorted_list.append(input_list[0])            \n",
    "    #print(\"sorted=\"+str(sorted_list))\n",
    "    split_count = split_count + split_count_1 + split_count_2\n",
    "    return sorted_list,split_count"
   ]
  },
  {
   "cell_type": "code",
   "execution_count": 233,
   "metadata": {},
   "outputs": [
    {
     "data": {
      "text/plain": [
       "([1, 2, 3, 4, 5], 6)"
      ]
     },
     "execution_count": 233,
     "metadata": {},
     "output_type": "execute_result"
    }
   ],
   "source": [
    "merge_sort_count_split([1,5,4,3,2])"
   ]
  },
  {
   "cell_type": "code",
   "execution_count": null,
   "metadata": {},
   "outputs": [],
   "source": []
  }
 ],
 "metadata": {
  "kernelspec": {
   "display_name": "Python 3",
   "language": "python",
   "name": "python3"
  },
  "language_info": {
   "codemirror_mode": {
    "name": "ipython",
    "version": 3
   },
   "file_extension": ".py",
   "mimetype": "text/x-python",
   "name": "python",
   "nbconvert_exporter": "python",
   "pygments_lexer": "ipython3",
   "version": "3.6.5"
  }
 },
 "nbformat": 4,
 "nbformat_minor": 2
}
