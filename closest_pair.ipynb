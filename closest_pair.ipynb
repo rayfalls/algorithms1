{
 "cells": [
  {
   "cell_type": "code",
   "execution_count": 1,
   "metadata": {},
   "outputs": [],
   "source": [
    "import numpy as np"
   ]
  },
  {
   "cell_type": "markdown",
   "metadata": {},
   "source": [
    "### Generate dataset"
   ]
  },
  {
   "cell_type": "code",
   "execution_count": 98,
   "metadata": {},
   "outputs": [],
   "source": [
    "input_array = np.random.rand(100,2)"
   ]
  },
  {
   "cell_type": "markdown",
   "metadata": {},
   "source": [
    "### Function to sort 2d array by column i"
   ]
  },
  {
   "cell_type": "code",
   "execution_count": 3,
   "metadata": {},
   "outputs": [],
   "source": [
    "def merge_sort_2d_by_column(input_2d_array,by_column=0):\n",
    "    accompany_index = 1 - by_column #index for the column that's not sort by but accompanying the sort\n",
    "    sort_by_col=input_2d_array[:,by_column]\n",
    "    acomp_by_col=input_2d_array[:,accompany_index]\n",
    "    \n",
    "    n = sort_by_col.shape[0]\n",
    "    #print(\"input\"+str(input_list))\n",
    "\n",
    "    sorted_array = np.empty((0,2),float)\n",
    "    if n>2: # If there are more than 2 pair of points in the array, split and deal with them recursively.\n",
    "        array_1 = input_2d_array[0:n//2,:]\n",
    "        array_2 = input_2d_array[n//2:,:]\n",
    "        sorted_1 = merge_sort_2d_by_column(array_1,by_column)\n",
    "        sorted_2 = merge_sort_2d_by_column(array_2,by_column)\n",
    "        \n",
    "        #Merge step\n",
    "        i=0\n",
    "        j=0\n",
    "        for k in range(0,n):\n",
    "            if (i <= (n//2) -1 ) & ( j <= n - (n//2) -1):#i and j are in range, other wise append the rest of the array\n",
    "                if sorted_1[:,by_column][i] < sorted_2[:,by_column][j]:#when item i in sorted_1 is smaller\n",
    "                    sorted_array = np.vstack((sorted_array,sorted_1[i,:]))\n",
    "                    i += 1\n",
    "                elif sorted_1[:,by_column][i] > sorted_2[:,by_column][j]:#when item j in sorted_2 is smaller\n",
    "                    sorted_array = np.vstack((sorted_array,sorted_2[j,:]))\n",
    "                    j += 1\n",
    "            elif i>(n//2) -1:#When all coordinates in sorted_1 are consumed.\n",
    "                sorted_array = np.vstack((sorted_array,sorted_2[j:,:]))\n",
    "                break\n",
    "            elif j>n - (n//2) -1:#When all coordinates in sorted_2 are consumed.\n",
    "                sorted_array = np.vstack((sorted_array,sorted_1[i:,:]))\n",
    "                break\n",
    "    elif n == 2: # Base case, if there's only 2 pairs, sort them by compairing\n",
    "        if input_2d_array[0,by_column]<=input_2d_array[1,by_column]:\n",
    "            sorted_temp = np.vstack((input_2d_array[0,:],input_2d_array[1,:]))\n",
    "            sorted_array = np.vstack((sorted_array,sorted_temp))\n",
    "        else:\n",
    "            sorted_temp = np.vstack((input_2d_array[1,:],input_2d_array[0,:]))\n",
    "            sorted_array = np.vstack((sorted_array,sorted_temp))\n",
    "    elif n == 1: # Base case, if there's only 1 pair of points, append them to sorted.\n",
    "        sorted_array = np.vstack((sorted_array,input_2d_array[0,:]))\n",
    "    #print(\"sorted=\"+str(sorted_list))\n",
    "    return sorted_array"
   ]
  },
  {
   "cell_type": "code",
   "execution_count": 4,
   "metadata": {},
   "outputs": [],
   "source": [
    "def euc_square_d(point_1:np.ndarray,point_2:np.ndarray):\n",
    "    d = np.power((point_1[0] - point_2[0]),2) + np.power((point_1[1] - point_2[1]),2)\n",
    "    return d    "
   ]
  },
  {
   "cell_type": "code",
   "execution_count": 5,
   "metadata": {},
   "outputs": [],
   "source": [
    "def sort_by_y(px,py):\n",
    "    Ly = np.empty((0,2),float)\n",
    "    Ry = np.empty((0,2),float)\n",
    "    n = px.shape[0]\n",
    "    x_mid = (px[n//2-1,0] + px[n//2,0]) /2\n",
    "    for i in range(0,py.shape[0]):\n",
    "        if py[i,0] < x_mid:\n",
    "            Ly = np.vstack((Ly,py[i,:]))\n",
    "        else:\n",
    "            Ry = np.vstack((Ry,py[i,:]))\n",
    "    return Ly,Ry  "
   ]
  },
  {
   "cell_type": "code",
   "execution_count": 6,
   "metadata": {},
   "outputs": [],
   "source": [
    "# Preprocessing, sort table by X and Y\n",
    "px = merge_sort_2d_by_column(input_array,0)\n",
    "py = merge_sort_2d_by_column(input_array,1)"
   ]
  },
  {
   "cell_type": "code",
   "execution_count": 94,
   "metadata": {},
   "outputs": [],
   "source": [
    "#Lx Ly Rx Ry\n",
    "#Lx: First half of px sorted by x\n",
    "#Ly: First half of px sorted by y\n",
    "#Rx: Second half of px sorted by x\n",
    "#Ry: Second half of px sorted by y\n",
    "#l1_l2 = closestpair(Lx,Ly)\n",
    "#r1_r2 = closestpair(Rx,Ry)\n",
    "\n",
    "def closest_pair(input_array):\n",
    "    n = input_array.shape[0]\n",
    "    min_pt = np.empty((0,2),float)\n",
    "    if n == 2: #base case: 2pts, min is distance betwenn them\n",
    "        min_val = euc_square_d(input_array[0,:],input_array[1,:])\n",
    "        min_pt = np.vstack((input_array[0,:],input_array[1,:]))\n",
    "        \n",
    "        return min_val,min_pt\n",
    "    \n",
    "    elif n ==3: #base case: 3pts, min is distance betwenn any two of them\n",
    "        min_val = euc_square_d(input_array[0,:],input_array[1,:])\n",
    "        min_pt = np.vstack((input_array[0,:],input_array[1,:]))\n",
    "        \n",
    "        if euc_square_d(input_array[0,:],input_array[2,:]) < min_val:\n",
    "            min_val = euc_square_d(input_array[0,:],input_array[2,:])\n",
    "            min_pt = np.vstack((input_array[0,:],input_array[2,:]))           \n",
    "        elif euc_square_d(input_array[1,:],input_array[2,:]) < min_val:\n",
    "            min_val = euc_square_d(input_array[1,:],input_array[2,:])\n",
    "            min_pt = np.vstack((input_array[1,:],input_array[2,:]))   \n",
    "\n",
    "        return min_val, min_pt\n",
    "    \n",
    "    elif n>3: # if more than 3 points, do recursive call\n",
    "        \n",
    "        px = merge_sort_2d_by_column(input_array,0)\n",
    "        py = merge_sort_2d_by_column(input_array,1)\n",
    "        LX = px[0:n//2,:]\n",
    "        RX = px[n//2:,:]\n",
    "        LY,RY = sort_by_y(px,py)\n",
    "        #print(LX)\n",
    "        l1,pair_l1 = closest_pair(LX)\n",
    "        r1,pair_r1 = closest_pair(RX)\n",
    "\n",
    "        if l1<r1:\n",
    "            delta = l1\n",
    "            min_pt = pair_l1\n",
    "        else:\n",
    "            delta = r1\n",
    "            min_pt = pair_r1   \n",
    "\n",
    "        # Closest split pair will be identified by the following\n",
    "        x_bar = px[n//2-1,0]\n",
    "        SY = np.empty((0,2),float)\n",
    "        \n",
    "        for i in range(0,n):\n",
    "            if (py[i,0]> x_bar - delta) and (py[i,0]< x_bar + delta):\n",
    "                SY = np.vstack((SY,py[i,:]))\n",
    "        #print(n,i,SY,SY.shape[0])\n",
    "        # brute force search closest pair in SY, it was proven that at most you need to search for 7 points ahead of p\n",
    "        overall_min = delta\n",
    "        for i in range(0,SY.shape[0]-1):\n",
    "            for j in range(i+1,min(7+i+1,SY.shape[0])):\n",
    "                if euc_square_d(SY[i,:],SY[j,:]) < overall_min:\n",
    "                    overall_min = euc_square_d(SY[i,:],SY[j,:])\n",
    "                    min_pt = np.vstack((SY[i,:],SY[j,:]))   \n",
    "        return overall_min, min_pt"
   ]
  },
  {
   "cell_type": "code",
   "execution_count": 99,
   "metadata": {},
   "outputs": [
    {
     "data": {
      "text/plain": [
       "(3.95331630953824e-06, array([[0.88941474, 0.19513433],\n",
       "        [0.89088682, 0.19379781]]))"
      ]
     },
     "execution_count": 99,
     "metadata": {},
     "output_type": "execute_result"
    }
   ],
   "source": [
    "closest_pair(input_array)"
   ]
  },
  {
   "cell_type": "code",
   "execution_count": 82,
   "metadata": {},
   "outputs": [],
   "source": [
    "def brute_search_cloest_pair(input_array):\n",
    "    overall_min = euc_square_d(input_array[0,:],input_array[1,:])\n",
    "    print(overall_min)\n",
    "    min_pt = np.empty((0,2),float)\n",
    "    for i in range(0,input_array.shape[0]-1):\n",
    "        for j in range(i+1,input_array.shape[0]):\n",
    "            #print(i,j)\n",
    "            if euc_square_d(input_array[i,:],input_array[j,:]) < overall_min:\n",
    "                overall_min = euc_square_d(input_array[i,:],input_array[j,:])\n",
    "                min_pt = np.vstack((input_array[i,:],input_array[j,:]))\n",
    "    return overall_min,min_pt"
   ]
  },
  {
   "cell_type": "code",
   "execution_count": 101,
   "metadata": {},
   "outputs": [
    {
     "name": "stdout",
     "output_type": "stream",
     "text": [
      "0.8676922134109273\n"
     ]
    },
    {
     "data": {
      "text/plain": [
       "(3.95331630953824e-06, array([[0.89088682, 0.19379781],\n",
       "        [0.88941474, 0.19513433]]))"
      ]
     },
     "execution_count": 101,
     "metadata": {},
     "output_type": "execute_result"
    }
   ],
   "source": [
    "brute_search_cloest_pair(input_array)"
   ]
  },
  {
   "cell_type": "code",
   "execution_count": null,
   "metadata": {},
   "outputs": [],
   "source": []
  }
 ],
 "metadata": {
  "anaconda-cloud": {},
  "kernelspec": {
   "display_name": "Python 3",
   "language": "python",
   "name": "python3"
  },
  "language_info": {
   "codemirror_mode": {
    "name": "ipython",
    "version": 3
   },
   "file_extension": ".py",
   "mimetype": "text/x-python",
   "name": "python",
   "nbconvert_exporter": "python",
   "pygments_lexer": "ipython3",
   "version": "3.6.5"
  }
 },
 "nbformat": 4,
 "nbformat_minor": 2
}
