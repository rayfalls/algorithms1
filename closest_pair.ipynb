{
 "cells": [
  {
   "cell_type": "code",
   "execution_count": 174,
   "metadata": {},
   "outputs": [],
   "source": [
    "import numpy as np"
   ]
  },
  {
   "cell_type": "markdown",
   "metadata": {},
   "source": [
    "### Generate dataset"
   ]
  },
  {
   "cell_type": "code",
   "execution_count": 175,
   "metadata": {},
   "outputs": [],
   "source": [
    "input_array = np.random.rand(100,2)"
   ]
  },
  {
   "cell_type": "markdown",
   "metadata": {},
   "source": [
    "### Function to sort 2d array by column i"
   ]
  },
  {
   "cell_type": "code",
   "execution_count": 176,
   "metadata": {},
   "outputs": [],
   "source": [
    "def merge_sort_2d_by_column(input_2d_array,by_column=0):\n",
    "    accompany_index = 1 - by_column #index for the column that's not sort by but accompanying the sort\n",
    "    sort_by_col=input_2d_array[:,by_column]\n",
    "    acomp_by_col=input_2d_array[:,accompany_index]\n",
    "    \n",
    "    n = sort_by_col.shape[0]\n",
    "    #print(\"input\"+str(input_list))\n",
    "\n",
    "    sorted_array = np.empty((0,2),float)\n",
    "    if n>2: # If there are more than 2 pair of points in the array, split and deal with them recursively.\n",
    "        array_1 = input_2d_array[0:n//2,:]\n",
    "        array_2 = input_2d_array[n//2:,:]\n",
    "        sorted_1 = merge_sort_2d_by_column(array_1,by_column)\n",
    "        sorted_2 = merge_sort_2d_by_column(array_2,by_column)\n",
    "        \n",
    "        #Merge step\n",
    "        i=0\n",
    "        j=0\n",
    "        for k in range(0,n):\n",
    "            if (i <= (n//2) -1 ) & ( j <= n - (n//2) -1):#i and j are in range, other wise append the rest of the array\n",
    "                if sorted_1[:,by_column][i] < sorted_2[:,by_column][j]:#when item i in sorted_1 is smaller\n",
    "                    sorted_array = np.vstack((sorted_array,sorted_1[i,:]))\n",
    "                    i += 1\n",
    "                elif sorted_1[:,by_column][i] > sorted_2[:,by_column][j]:#when item j in sorted_2 is smaller\n",
    "                    sorted_array = np.vstack((sorted_array,sorted_2[j,:]))\n",
    "                    j += 1\n",
    "            elif i>(n//2) -1:#When all coordinates in sorted_1 are consumed.\n",
    "                sorted_array = np.vstack((sorted_array,sorted_2[j:,:]))\n",
    "                break\n",
    "            elif j>n - (n//2) -1:#When all coordinates in sorted_2 are consumed.\n",
    "                sorted_array = np.vstack((sorted_array,sorted_1[i:,:]))\n",
    "                break\n",
    "    elif n == 2: # Base case, if there's only 2 pairs, sort them by compairing\n",
    "        if input_2d_array[0,by_column]<=input_2d_array[1,by_column]:\n",
    "            sorted_temp = np.vstack((input_2d_array[0,:],input_2d_array[1,:]))\n",
    "            sorted_array = np.vstack((sorted_array,sorted_temp))\n",
    "        else:\n",
    "            sorted_temp = np.vstack((input_2d_array[1,:],input_2d_array[0,:]))\n",
    "            sorted_array = np.vstack((sorted_array,sorted_temp))\n",
    "    elif n == 1: # Base case, if there's only 1 pair of points, append them to sorted.\n",
    "        sorted_array = np.vstack((sorted_array,input_2d_array[0,:]))\n",
    "    #print(\"sorted=\"+str(sorted_list))\n",
    "    return sorted_array"
   ]
  },
  {
   "cell_type": "code",
   "execution_count": 177,
   "metadata": {},
   "outputs": [],
   "source": [
    "def euc_square_d(point_1:np.ndarray,point_2:np.ndarray):\n",
    "    d = np.power((point_1[0] - point_2[0]),2) + np.power((point_1[1] - point_2[1]),2)\n",
    "    return d    "
   ]
  },
  {
   "cell_type": "code",
   "execution_count": 178,
   "metadata": {},
   "outputs": [],
   "source": [
    "def sort_by_y(px,py):\n",
    "    Ly = np.empty((0,2),float)\n",
    "    Ry = np.empty((0,2),float)\n",
    "    n = px.shape[0]\n",
    "    x_mid = (px[n//2-1,0] + px[n//2,0]) /2\n",
    "    for i in range(0,py.shape[0]):\n",
    "        if py[i,0] < x_mid:\n",
    "            Ly = np.vstack((Ly,py[i,:]))\n",
    "        else:\n",
    "            Ry = np.vstack((Ry,py[i,:]))\n",
    "    return Ly,Ry  "
   ]
  },
  {
   "cell_type": "code",
   "execution_count": 179,
   "metadata": {},
   "outputs": [],
   "source": [
    "# Preprocessing, sort table by X and Y\n",
    "px = merge_sort_2d_by_column(input_array,0)\n",
    "py = merge_sort_2d_by_column(input_array,1)"
   ]
  },
  {
   "cell_type": "code",
   "execution_count": 180,
   "metadata": {},
   "outputs": [],
   "source": [
    "#Lx Ly Rx Ry\n",
    "#Lx: First half of px sorted by x\n",
    "#Ly: First half of px sorted by y\n",
    "#Rx: Second half of px sorted by x\n",
    "#Ry: Second half of px sorted by y\n",
    "#l1_l2 = closestpair(Lx,Ly)\n",
    "#r1_r2 = closestpair(Rx,Ry)\n",
    "\n",
    "def closest_pair(input_array):\n",
    "    n = input_array.shape[0]\n",
    "    min_pt = np.empty((0,2),float)\n",
    "    if n == 2: #base case: 2pts, min is distance betwenn them\n",
    "        min_val = euc_square_d(input_array[0,:],input_array[1,:])\n",
    "        min_pt = np.vstack((input_array[0,:],input_array[1,:]))\n",
    "        #print (str(n)+'case min='+str(min_val))  \n",
    "        return min_val,min_pt\n",
    "    \n",
    "    elif n ==3: #base case: 3pts, min is distance betwenn any two of them\n",
    "        min_val = euc_square_d(input_array[0,:],input_array[1,:])\n",
    "        min_pt = np.vstack((input_array[0,:],input_array[1,:]))\n",
    "        \n",
    "        if euc_square_d(input_array[0,:],input_array[2,:]) < min_val:\n",
    "            min_val = euc_square_d(input_array[0,:],input_array[2,:])\n",
    "            min_pt = np.vstack((input_array[0,:],input_array[2,:]))  \n",
    "            \n",
    "        elif euc_square_d(input_array[1,:],input_array[2,:]) < min_val:\n",
    "            min_val = euc_square_d(input_array[1,:],input_array[2,:])\n",
    "            min_pt = np.vstack((input_array[1,:],input_array[2,:]))   \n",
    "        #print (str(n)+'case min='+str(min_val)) \n",
    "        return min_val, min_pt\n",
    "    \n",
    "    elif n>3: # if more than 3 points, do recursive call\n",
    "        \n",
    "        px = merge_sort_2d_by_column(input_array,0)\n",
    "        py = merge_sort_2d_by_column(input_array,1)\n",
    "        LX = px[0:n//2,:]\n",
    "        RX = px[n//2:,:]\n",
    "        LY,RY = sort_by_y(px,py)\n",
    "        #print(LX)\n",
    "        l1,pair_l1 = closest_pair(LX)\n",
    "        r1,pair_r1 = closest_pair(RX)\n",
    "\n",
    "        if l1<r1:\n",
    "            delta = np.power(l1,0.5)\n",
    "            min_pt = pair_l1\n",
    "        else:\n",
    "            delta = np.power(r1,0.5)\n",
    "            min_pt = pair_r1   \n",
    "\n",
    "        # Closest split pair will be identified by the following\n",
    "        x_bar = px[n//2-1,0]\n",
    "        SY = np.empty((0,2),float)\n",
    "        \n",
    "        for i in range(0,n):\n",
    "            if (py[i,0]> x_bar - delta) and (py[i,0]< x_bar + delta):\n",
    "                SY = np.vstack((SY,py[i,:]))\n",
    "        #print(n,i,SY,SY.shape[0])\n",
    "        # brute force search closest pair in SY, it was proven that at most you need to search for 7 points ahead of p\n",
    "        overall_min = np.power(delta,2)\n",
    "        for i in range(0,SY.shape[0]-1):\n",
    "            for j in range(i+1,min(7+i+1,SY.shape[0])):\n",
    "                #print(i,j,SY)\n",
    "                if euc_square_d(SY[i,:],SY[j,:]) < overall_min:\n",
    "                    overall_min = euc_square_d(SY[i,:],SY[j,:])\n",
    "                    min_pt = np.vstack((SY[i,:],SY[j,:]))   \n",
    "        #print (str(n)+'case min='+str(overall_min)) \n",
    "        return overall_min, min_pt"
   ]
  },
  {
   "cell_type": "code",
   "execution_count": 181,
   "metadata": {},
   "outputs": [
    {
     "data": {
      "text/plain": [
       "(9.54728320329424e-05, array([[0.81910391, 0.43311421],\n",
       "        [0.80936112, 0.43385641]]))"
      ]
     },
     "execution_count": 181,
     "metadata": {},
     "output_type": "execute_result"
    }
   ],
   "source": [
    "closest_pair(input_array)"
   ]
  },
  {
   "cell_type": "code",
   "execution_count": 182,
   "metadata": {},
   "outputs": [],
   "source": [
    "def brute_search_cloest_pair(input_array):\n",
    "    overall_min = euc_square_d(input_array[0,:],input_array[1,:])\n",
    "    #print(overall_min)\n",
    "    min_pt = np.empty((0,2),float)\n",
    "    for i in range(0,input_array.shape[0]-1):\n",
    "        for j in range(i+1,input_array.shape[0]):\n",
    "            #print(i,j)\n",
    "            if euc_square_d(input_array[i,:],input_array[j,:]) < overall_min:\n",
    "                overall_min = euc_square_d(input_array[i,:],input_array[j,:])\n",
    "                min_pt = np.vstack((input_array[i,:],input_array[j,:]))\n",
    "    return overall_min,min_pt"
   ]
  },
  {
   "cell_type": "code",
   "execution_count": 183,
   "metadata": {},
   "outputs": [
    {
     "data": {
      "text/plain": [
       "(9.54728320329424e-05, array([[0.80936112, 0.43385641],\n",
       "        [0.81910391, 0.43311421]]))"
      ]
     },
     "execution_count": 183,
     "metadata": {},
     "output_type": "execute_result"
    }
   ],
   "source": [
    "brute_search_cloest_pair(merge_sort_2d_by_column(input_array,0))"
   ]
  },
  {
   "cell_type": "code",
   "execution_count": 184,
   "metadata": {},
   "outputs": [
    {
     "data": {
      "text/plain": [
       "array([[1.84326207e-02, 5.87566058e-01],\n",
       "       [4.91603063e-02, 6.53267536e-01],\n",
       "       [5.65378486e-02, 9.37160068e-01],\n",
       "       [5.78579408e-02, 9.93384641e-02],\n",
       "       [9.01200202e-02, 7.44633980e-02],\n",
       "       [9.15838805e-02, 3.92532153e-01],\n",
       "       [9.38881011e-02, 4.27111389e-02],\n",
       "       [9.51196810e-02, 4.62453205e-01],\n",
       "       [1.02251242e-01, 3.80049117e-01],\n",
       "       [1.11744565e-01, 2.09262697e-02],\n",
       "       [1.22562923e-01, 5.59539148e-01],\n",
       "       [1.25626384e-01, 2.27300275e-01],\n",
       "       [1.38176126e-01, 3.17053738e-01],\n",
       "       [1.53594955e-01, 4.39256869e-01],\n",
       "       [1.57041280e-01, 7.22704440e-01],\n",
       "       [1.67765668e-01, 1.65512996e-01],\n",
       "       [1.72282519e-01, 1.19447691e-01],\n",
       "       [1.78030903e-01, 8.27550396e-01],\n",
       "       [1.87936036e-01, 3.21042405e-01],\n",
       "       [1.96226649e-01, 3.79516565e-01],\n",
       "       [1.96661742e-01, 8.90923680e-01],\n",
       "       [2.06844849e-01, 9.07953229e-01],\n",
       "       [2.11512097e-01, 6.94119020e-01],\n",
       "       [2.18047108e-01, 5.44795284e-01],\n",
       "       [2.25537682e-01, 2.55033456e-01],\n",
       "       [2.30789451e-01, 3.20978202e-01],\n",
       "       [2.33025802e-01, 6.91158990e-01],\n",
       "       [2.37717935e-01, 5.96274231e-01],\n",
       "       [2.38651168e-01, 3.38992683e-02],\n",
       "       [2.66772158e-01, 8.42920240e-01],\n",
       "       [2.81145261e-01, 7.01500212e-01],\n",
       "       [2.89736425e-01, 7.65888505e-01],\n",
       "       [2.92673198e-01, 8.35407836e-01],\n",
       "       [2.97130482e-01, 7.87356822e-01],\n",
       "       [3.04409895e-01, 9.56894663e-01],\n",
       "       [3.13290343e-01, 1.57020433e-01],\n",
       "       [3.25988291e-01, 3.80802670e-01],\n",
       "       [3.46153993e-01, 6.19632953e-01],\n",
       "       [3.56858657e-01, 9.61556478e-01],\n",
       "       [3.66654838e-01, 3.48313752e-01],\n",
       "       [3.92413792e-01, 3.54016167e-01],\n",
       "       [4.16732908e-01, 2.76614838e-01],\n",
       "       [4.17061399e-01, 5.58772779e-01],\n",
       "       [4.24994051e-01, 4.36080705e-01],\n",
       "       [4.26347111e-01, 5.90647014e-01],\n",
       "       [4.38271707e-01, 3.82416778e-01],\n",
       "       [4.38894640e-01, 8.01879139e-01],\n",
       "       [4.44639224e-01, 2.15888656e-01],\n",
       "       [4.48680121e-01, 9.52384967e-01],\n",
       "       [4.55521404e-01, 9.13649280e-01],\n",
       "       [4.66677386e-01, 7.31946996e-01],\n",
       "       [4.75729638e-01, 6.39177843e-01],\n",
       "       [5.06672874e-01, 5.53458481e-01],\n",
       "       [5.10866133e-01, 9.67771760e-01],\n",
       "       [5.34836087e-01, 3.37564627e-01],\n",
       "       [5.49236015e-01, 3.41273335e-01],\n",
       "       [5.51163287e-01, 9.73884200e-01],\n",
       "       [5.51995828e-01, 2.85870247e-01],\n",
       "       [5.52435388e-01, 9.57247687e-01],\n",
       "       [5.60845381e-01, 5.60227718e-01],\n",
       "       [5.61931251e-01, 2.81296608e-04],\n",
       "       [5.65327631e-01, 1.66001233e-01],\n",
       "       [5.69432162e-01, 2.71221725e-01],\n",
       "       [5.69542757e-01, 7.13270702e-01],\n",
       "       [5.71076987e-01, 3.17778651e-01],\n",
       "       [5.73281905e-01, 9.77394420e-01],\n",
       "       [5.85957576e-01, 4.02712709e-03],\n",
       "       [5.99244958e-01, 3.90743866e-02],\n",
       "       [6.14981054e-01, 5.32834594e-01],\n",
       "       [6.25652830e-01, 7.79272432e-01],\n",
       "       [6.32536101e-01, 9.16360839e-01],\n",
       "       [6.74467137e-01, 6.34910359e-01],\n",
       "       [7.25337657e-01, 6.52829632e-01],\n",
       "       [7.26459045e-01, 5.74922322e-01],\n",
       "       [7.26471957e-01, 7.77609855e-01],\n",
       "       [7.27260309e-01, 1.84523434e-01],\n",
       "       [7.40878184e-01, 3.89795533e-01],\n",
       "       [8.04059120e-01, 2.41537305e-01],\n",
       "       [8.04488921e-01, 7.04249266e-01],\n",
       "       [8.09361119e-01, 4.33856410e-01],\n",
       "       [8.17851247e-01, 8.60150713e-02],\n",
       "       [8.19103910e-01, 4.33114212e-01],\n",
       "       [8.20293600e-01, 5.18308189e-01],\n",
       "       [8.22953964e-01, 3.88826348e-01],\n",
       "       [8.27814978e-01, 7.83953386e-01],\n",
       "       [8.36326344e-01, 6.30201393e-01],\n",
       "       [8.45188067e-01, 1.72007917e-01],\n",
       "       [8.45903967e-01, 8.78526610e-01],\n",
       "       [8.48166000e-01, 6.68290724e-01],\n",
       "       [8.55865192e-01, 3.73993901e-01],\n",
       "       [8.70916373e-01, 3.25174356e-01],\n",
       "       [8.79063645e-01, 2.29723082e-01],\n",
       "       [8.90262220e-01, 6.10897146e-01],\n",
       "       [9.04764109e-01, 9.09130536e-01],\n",
       "       [9.28709168e-01, 8.60498752e-04],\n",
       "       [9.28735429e-01, 8.19128138e-01],\n",
       "       [9.38231803e-01, 1.32836593e-02],\n",
       "       [9.62953137e-01, 4.56098219e-02],\n",
       "       [9.78510491e-01, 8.40861912e-01],\n",
       "       [9.90599427e-01, 4.31262448e-01]])"
      ]
     },
     "execution_count": 184,
     "metadata": {},
     "output_type": "execute_result"
    }
   ],
   "source": [
    "merge_sort_2d_by_column(input_array,0)"
   ]
  },
  {
   "cell_type": "code",
   "execution_count": 185,
   "metadata": {},
   "outputs": [
    {
     "data": {
      "text/plain": [
       "0.004504826402976966"
      ]
     },
     "execution_count": 185,
     "metadata": {},
     "output_type": "execute_result"
    }
   ],
   "source": [
    "euc_square_d(merge_sort_2d_by_column(input_array,0)[3,:],merge_sort_2d_by_column(input_array,0)[6,:])"
   ]
  },
  {
   "cell_type": "code",
   "execution_count": null,
   "metadata": {},
   "outputs": [],
   "source": []
  }
 ],
 "metadata": {
  "anaconda-cloud": {},
  "kernelspec": {
   "display_name": "Python 3",
   "language": "python",
   "name": "python3"
  },
  "language_info": {
   "codemirror_mode": {
    "name": "ipython",
    "version": 3
   },
   "file_extension": ".py",
   "mimetype": "text/x-python",
   "name": "python",
   "nbconvert_exporter": "python",
   "pygments_lexer": "ipython3",
   "version": "3.6.5"
  }
 },
 "nbformat": 4,
 "nbformat_minor": 2
}
