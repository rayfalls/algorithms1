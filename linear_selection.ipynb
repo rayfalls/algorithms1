{
 "cells": [
  {
   "cell_type": "markdown",
   "metadata": {},
   "source": [
    "### Select the nth largest item in an array with linear time"
   ]
  },
  {
   "cell_type": "code",
   "execution_count": 157,
   "metadata": {},
   "outputs": [],
   "source": [
    "import random\n",
    "ls_list = random.sample(range(1, 5000), 3000)"
   ]
  },
  {
   "cell_type": "code",
   "execution_count": 20,
   "metadata": {},
   "outputs": [],
   "source": [
    "def choose_pivot(l,r):\n",
    "    p = random.randint(l,r)\n",
    "    return p"
   ]
  },
  {
   "cell_type": "code",
   "execution_count": 143,
   "metadata": {},
   "outputs": [],
   "source": [
    "def partition(A,l,r,k):#A a list of numeric values, l,r, left and right boundary to perform the pivot,k the k-th statistics we are asking for\n",
    "    #Add a base case here\n",
    "    print(\"new recursive call, left={:d}, right={:d} ,k={:d}\".format(l,r,k))\n",
    "    #Recursive calls\n",
    "    p = choose_pivot(l,r-1)\n",
    "    pivot = A[p]\n",
    "    #partition step 1, switch pivot to first element\n",
    "    A[l],A[p] = A[p],A[l]\n",
    "    #partition step 2, loop through all elements between l and r\n",
    "    #i-1 is the last element with value <pivot\n",
    "    #j is the element been evaluated\n",
    "    i=l+1\n",
    "    for j in range(l+1,r):\n",
    "        if A[j]<pivot:\n",
    "            A[i],A[j] = A[j],A[i] #if element A[j] is less than pivot, swap it with A[i] and advance i by 1, so that \n",
    "            #everything before i is still less than the pivot\n",
    "            i +=1\n",
    "            #if element A[j] is greater than pivot, do nothing, j will advance by 1\n",
    "    A[l],A[i-1] = A[i-1],A[l] #swap last <pivot element (i-1) with pivot, now at A[l] to complete the pivot\n",
    "    #print(\"after pivot by \" + str(pivot) +str(A))\n",
    "    #pivot position post is at i-1, so the pivot is the ith statistics of the whole list, but (i-l)-th in the recursive part\n",
    "    if i-l<k:\n",
    "        #the pivot is less than k, right answer is to the right of i, recurse over (i,r) to find (k-i)-th statistics\n",
    "        partition(A,i,r,k+l-i)\n",
    "        print(\"pivot is {:d}-th item of left/right={:d}/{:d},new order to look up is {:d}\".format(i,l,r,k+l-i))\n",
    "    elif i-l>k:\n",
    "        partition(A,l,i-1,k)\n",
    "    elif i-l == k:\n",
    "        return k #return the pivot position"
   ]
  },
  {
   "cell_type": "code",
   "execution_count": 138,
   "metadata": {},
   "outputs": [],
   "source": [
    "def rselect(A,k):\n",
    "    n = len(A)\n",
    "    partition(A,0,n,k)\n",
    "    return A[k-1]"
   ]
  },
  {
   "cell_type": "code",
   "execution_count": 134,
   "metadata": {},
   "outputs": [
    {
     "name": "stdout",
     "output_type": "stream",
     "text": [
      "K'th smallest element is 5\n"
     ]
    }
   ],
   "source": [
    "def kthSmallest(arr, n, k): \n",
    "  \n",
    "    # Sort the given array  \n",
    "    arr.sort() \n",
    "  \n",
    "    # Return k'th element in the  \n",
    "    # sorted array  \n",
    "    return arr[k-1] \n",
    "  \n",
    "# Driver code \n",
    "if __name__=='__main__': \n",
    "    arr = ls_list\n",
    "    n = len(arr) \n",
    "    k = 3\n",
    "    print(\"K'th smallest element is\", \n",
    "          kthSmallest(arr, n, k)) \n",
    "    \n",
    "    "
   ]
  },
  {
   "cell_type": "code",
   "execution_count": 158,
   "metadata": {},
   "outputs": [
    {
     "name": "stdout",
     "output_type": "stream",
     "text": [
      "new recursive call, left=0, right=3000 ,k=1273\n",
      "new recursive call, left=344, right=3000 ,k=929\n",
      "new recursive call, left=344, right=1566 ,k=929\n",
      "new recursive call, left=344, right=1464 ,k=929\n",
      "new recursive call, left=1180, right=1464 ,k=93\n",
      "new recursive call, left=1180, right=1338 ,k=93\n",
      "new recursive call, left=1246, right=1338 ,k=27\n",
      "new recursive call, left=1246, right=1328 ,k=27\n",
      "new recursive call, left=1246, right=1296 ,k=27\n",
      "new recursive call, left=1246, right=1287 ,k=27\n",
      "new recursive call, left=1262, right=1287 ,k=11\n",
      "new recursive call, left=1269, right=1287 ,k=4\n",
      "new recursive call, left=1269, right=1280 ,k=4\n",
      "new recursive call, left=1271, right=1280 ,k=2\n",
      "new recursive call, left=1271, right=1279 ,k=2\n",
      "pivot is 1271-th item of left/right=1269/1280,new order to look up is 2\n",
      "pivot is 1269-th item of left/right=1262/1287,new order to look up is 4\n",
      "pivot is 1262-th item of left/right=1246/1287,new order to look up is 11\n",
      "pivot is 1246-th item of left/right=1180/1338,new order to look up is 27\n",
      "pivot is 1180-th item of left/right=344/1464,new order to look up is 93\n",
      "pivot is 344-th item of left/right=0/3000,new order to look up is 929\n"
     ]
    },
    {
     "data": {
      "text/plain": [
       "2132"
      ]
     },
     "execution_count": 158,
     "metadata": {},
     "output_type": "execute_result"
    }
   ],
   "source": [
    "rselect(ls_list,1273)"
   ]
  },
  {
   "cell_type": "code",
   "execution_count": 159,
   "metadata": {},
   "outputs": [
    {
     "data": {
      "text/plain": [
       "2132"
      ]
     },
     "execution_count": 159,
     "metadata": {},
     "output_type": "execute_result"
    }
   ],
   "source": [
    "kthSmallest(ls_list,len(ls_list),1273)"
   ]
  },
  {
   "cell_type": "code",
   "execution_count": null,
   "metadata": {},
   "outputs": [],
   "source": []
  }
 ],
 "metadata": {
  "kernelspec": {
   "display_name": "Python 3",
   "language": "python",
   "name": "python3"
  },
  "language_info": {
   "codemirror_mode": {
    "name": "ipython",
    "version": 3
   },
   "file_extension": ".py",
   "mimetype": "text/x-python",
   "name": "python",
   "nbconvert_exporter": "python",
   "pygments_lexer": "ipython3",
   "version": "3.7.3"
  }
 },
 "nbformat": 4,
 "nbformat_minor": 2
}
