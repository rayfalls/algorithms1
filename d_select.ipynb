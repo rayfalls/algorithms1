{
 "cells": [
  {
   "cell_type": "markdown",
   "metadata": {},
   "source": [
    "### Select the nth largest item in an array with linear time\n",
    "With deterministic algorithm, choose median of median as pivot"
   ]
  },
  {
   "cell_type": "code",
   "execution_count": 55,
   "metadata": {},
   "outputs": [],
   "source": [
    "import random\n",
    "ls_list = random.sample(range(1, 5000), 4000)"
   ]
  },
  {
   "cell_type": "code",
   "execution_count": 29,
   "metadata": {},
   "outputs": [],
   "source": [
    "def brute_select(A,k):\n",
    "    for i in range(0,len(A)):\n",
    "        for j in range(i+1,len(A)):\n",
    "            if A[i]>A[j]:\n",
    "                A[i],A[j] = A[j],A[i]\n",
    "    return A[k-1]"
   ]
  },
  {
   "cell_type": "code",
   "execution_count": 30,
   "metadata": {},
   "outputs": [],
   "source": [
    "def choose_pivot(l,r):\n",
    "    p = random.randint(l,r)\n",
    "    return p"
   ]
  },
  {
   "cell_type": "code",
   "execution_count": 52,
   "metadata": {},
   "outputs": [],
   "source": [
    "def d_select(A,k):#A a list of numeric values, k: k-th statistics, return k-th statistics\n",
    "    #Add a base case here\n",
    "    n=len(A)\n",
    "    if n<5:#\n",
    "        result = brute_select(A,k)\n",
    "        return result\n",
    "    else:\n",
    "        #print(\"new recursive call array length {:d},k={:d}\".format(len(A),k))\n",
    "        #Recursive calls\n",
    "\n",
    "        # Calculate median of median\n",
    "        C=[]\n",
    "        for h in range(0,n//5):#Get median of each group of 5 elements\n",
    "            C.append(brute_select(A[h:h+5],3))\n",
    "        #print(C)\n",
    "        pivot = d_select(C,n//10)\n",
    "        p = A.index(pivot)\n",
    "        #print(\"pivot=\"+str(pivot))\n",
    "\n",
    "        #partition step 1, switch pivot to first element\n",
    "        A[0],A[p] = A[p],A[0]\n",
    "        #partition step 2, loop through all elements in A\n",
    "        #i-1 is the last element with value <pivot\n",
    "        #j is the element been evaluated\n",
    "        i=1\n",
    "        for j in range(1,n):\n",
    "            if A[j]<pivot:\n",
    "                A[i],A[j] = A[j],A[i] #if element A[j] is less than pivot, swap it with A[i] and advance i by 1, so that \n",
    "                #everything before i is still less than the pivot\n",
    "                i +=1\n",
    "                #if element A[j] is greater than pivot, do nothing, j will advance by 1\n",
    "        A[0],A[i-1] = A[i-1],A[0] #swap last <pivot element (i-1) with pivot, now at A[0] to complete the pivot\n",
    "        #print(\"after pivot by \" + str(pivot) +str(A))\n",
    "        #pivot position post is at i-1, so the pivot is the ith statistics of the whole list\n",
    "        if i<k:\n",
    "            #the pivot is less than k, right answer is to the right of i, recurse over (i,n) to find (k-i)-th statistics\n",
    "            #print(\"pivot is {:d}-th statistics,new order to look up is {:d}\".format(i,k-i))\n",
    "            result = d_select(A[i:n],k-i)\n",
    "            \n",
    "        elif i>k:\n",
    "            #the pivot is larger than k, right answer is to the left of i, recurse over (0,i) to find k-th statistics\n",
    "            #print(\"pivot is {:d}-th statistics,new order to look up is {:d}\".format(i,k))\n",
    "            result = d_select(A[0:i],k)\n",
    "            \n",
    "        elif i == k:\n",
    "            result = pivot\n",
    "    return result #return the result"
   ]
  },
  {
   "cell_type": "code",
   "execution_count": 56,
   "metadata": {},
   "outputs": [
    {
     "data": {
      "text/plain": [
       "1024"
      ]
     },
     "execution_count": 56,
     "metadata": {},
     "output_type": "execute_result"
    }
   ],
   "source": [
    "d_select(ls_list,810)"
   ]
  },
  {
   "cell_type": "code",
   "execution_count": 46,
   "metadata": {},
   "outputs": [
    {
     "name": "stdout",
     "output_type": "stream",
     "text": [
      "K'th smallest element is 4\n"
     ]
    }
   ],
   "source": [
    "def kthSmallest(arr, n, k): \n",
    "  \n",
    "    # Sort the given array  \n",
    "    arr.sort() \n",
    "  \n",
    "    # Return k'th element in the  \n",
    "    # sorted array  \n",
    "    return arr[k-1] \n",
    "  \n",
    "# Driver code \n",
    "if __name__=='__main__': \n",
    "    arr = ls_list\n",
    "    n = len(arr) \n",
    "    k = 3\n",
    "    print(\"K'th smallest element is\", \n",
    "          kthSmallest(arr, n, k)) \n",
    "    \n",
    "    "
   ]
  },
  {
   "cell_type": "code",
   "execution_count": 57,
   "metadata": {},
   "outputs": [
    {
     "data": {
      "text/plain": [
       "1024"
      ]
     },
     "execution_count": 57,
     "metadata": {},
     "output_type": "execute_result"
    }
   ],
   "source": [
    "kthSmallest(ls_list,len(ls_list),810)"
   ]
  },
  {
   "cell_type": "code",
   "execution_count": null,
   "metadata": {},
   "outputs": [],
   "source": []
  }
 ],
 "metadata": {
  "kernelspec": {
   "display_name": "Python 3",
   "language": "python",
   "name": "python3"
  },
  "language_info": {
   "codemirror_mode": {
    "name": "ipython",
    "version": 3
   },
   "file_extension": ".py",
   "mimetype": "text/x-python",
   "name": "python",
   "nbconvert_exporter": "python",
   "pygments_lexer": "ipython3",
   "version": "3.7.3"
  }
 },
 "nbformat": 4,
 "nbformat_minor": 2
}
